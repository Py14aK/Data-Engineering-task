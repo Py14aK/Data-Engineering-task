{
 "cells": [
  {
   "cell_type": "code",
   "execution_count": null,
   "id": "b429c606-a1a5-4c34-af68-69e53697ea02",
   "metadata": {},
   "outputs": [],
   "source": [
    "import pandas as pd\n",
    "import sqlite3\n",
    "\n",
    "df_fact = pd.read_csv(r'/home/nambu/Desktop/ETL pipeline/EXCTRACTED FILES/merged.csv',header=0,usecols=['trip_id','start_time','end_time','bikeid','tripduration','usertype','gender','birthyear'])\n",
    "\n",
    "#My laptop is too slow but alternative is df_fact=merged_d[['trip_id','start_time','end_time','bikeid','tripduration','usertype','gender','birthyear']]\n",
    "#Or just use SQL querries by operating directly with sqlalchemy, I preffer to use SAS hash objects to be fair since they are the fastest way to read data."
   ]
  },
  {
   "cell_type": "code",
   "execution_count": null,
   "id": "b5a67d83-fa3d-4f64-8cf4-1f0c67578c99",
   "metadata": {},
   "outputs": [],
   "source": [
    "conn=sqlite3.connect(\"/home/nambu/Desktop/ETL pipeline/SQL/library.db\")\n",
    "\n",
    "cursor = conn.cursor()\n",
    "# create a table\n",
    "cursor.execute(\"\"\"CREATE TABLE IF NOT EXISTS Fact_D\n",
    "                  (trip_id,start_time,end_time,bikeid,tripduration,usertype,gender,birthyear)\n",
    "               \"\"\")\n",
    "conn.commit()\n"
   ]
  },
  {
   "cell_type": "code",
   "execution_count": null,
   "id": "b23f2a4c-f078-4bcc-bc68-8c2625012841",
   "metadata": {},
   "outputs": [],
   "source": [
    "conn=sqlite3.connect(\"/home/nambu/Desktop/ETL pipeline/SQL/library.db\")\n",
    "df_fact.to_sql('Fact_D', conn, if_exists='append', index = False)"
   ]
  },
  {
   "cell_type": "code",
   "execution_count": 1,
   "id": "f9972281-e892-4ca4-9e43-2f110ee29665",
   "metadata": {},
   "outputs": [
    {
     "ename": "NameError",
     "evalue": "name 'pd' is not defined",
     "output_type": "error",
     "traceback": [
      "\u001b[0;31m---------------------------------------------------------------------------\u001b[0m",
      "\u001b[0;31mNameError\u001b[0m                                 Traceback (most recent call last)",
      "Cell \u001b[0;32mIn[1], line 1\u001b[0m\n\u001b[0;32m----> 1\u001b[0m df_dim \u001b[38;5;241m=\u001b[39m \u001b[43mpd\u001b[49m\u001b[38;5;241m.\u001b[39mread_csv(\u001b[38;5;124mr\u001b[39m\u001b[38;5;124m'\u001b[39m\u001b[38;5;124m/home/nambu/Desktop/ETL pipeline/EXCTRACTED FILES/merged.csv\u001b[39m\u001b[38;5;124m'\u001b[39m,header\u001b[38;5;241m=\u001b[39m\u001b[38;5;241m0\u001b[39m,usecols\u001b[38;5;241m=\u001b[39m[\u001b[38;5;124m'\u001b[39m\u001b[38;5;124mtrip_id\u001b[39m\u001b[38;5;124m'\u001b[39m,\u001b[38;5;124m'\u001b[39m\u001b[38;5;124mfrom_station_id\u001b[39m\u001b[38;5;124m'\u001b[39m,\u001b[38;5;124m'\u001b[39m\u001b[38;5;124mfrom_station_name\u001b[39m\u001b[38;5;124m'\u001b[39m,\u001b[38;5;124m'\u001b[39m\u001b[38;5;124mto_station_id\u001b[39m\u001b[38;5;124m'\u001b[39m,\u001b[38;5;124m'\u001b[39m\u001b[38;5;124mto_station_name\u001b[39m\u001b[38;5;124m'\u001b[39m,\u001b[38;5;124m'\u001b[39m\u001b[38;5;124mQuarter\u001b[39m\u001b[38;5;124m'\u001b[39m])\n\u001b[1;32m      2\u001b[0m \u001b[38;5;66;03m#My laptop is too slow but alternative is df_dim=merged_d[['trip_id','from_station_id','from_station_name','to_station_id','to_station_name','Quarter'] , I will also code this in SAS to double check everythoing.\u001b[39;00m\n\u001b[1;32m      3\u001b[0m \u001b[38;5;66;03m#But my laptop crashes when I load all the data.\u001b[39;00m\n\u001b[1;32m      4\u001b[0m cursor \u001b[38;5;241m=\u001b[39m conn\u001b[38;5;241m.\u001b[39mcursor()\n",
      "\u001b[0;31mNameError\u001b[0m: name 'pd' is not defined"
     ]
    }
   ],
   "source": [
    "df_dim = pd.read_csv(r'/home/nambu/Desktop/ETL pipeline/EXCTRACTED FILES/merged.csv',header=0,usecols=['trip_id','from_station_id','from_station_name','to_station_id','to_station_name','Quarter'])\n",
    "#My laptop is too slow but alternative is df_dim=merged_d[['trip_id','from_station_id','from_station_name','to_station_id','to_station_name','Quarter'] , I will also code this in SAS to double check everythoing.\n",
    "#But my laptop crashes when I load all the data.\n",
    "cursor = conn.cursor()\n",
    "# create a table\n",
    "cursor.execute(\"\"\"CREATE TABLE IF NOT EXISTS Dimension_D\n",
    "                  (trip_id,from_station_id,from_station_name,to_station_id,to_station_name,Quarter)\n",
    "               \"\"\")\n",
    "conn.commit()\n",
    "df_dim.to_sql('Dimension_D', conn, if_exists='append', index = False)\n",
    "\n",
    "# ALternative is to use from sqlalchemy import create_engine but it did not work well on my laptop, so  I guess this is more resourse efficient. "
   ]
  },
  {
   "cell_type": "code",
   "execution_count": null,
   "id": "e3ab3c76-3cea-434d-b67a-df5654835fb7",
   "metadata": {},
   "outputs": [],
   "source": []
  }
 ],
 "metadata": {
  "kernelspec": {
   "display_name": "Python 3 (ipykernel)",
   "language": "python",
   "name": "python3"
  },
  "language_info": {
   "codemirror_mode": {
    "name": "ipython",
    "version": 3
   },
   "file_extension": ".py",
   "mimetype": "text/x-python",
   "name": "python",
   "nbconvert_exporter": "python",
   "pygments_lexer": "ipython3",
   "version": "3.11.5"
  }
 },
 "nbformat": 4,
 "nbformat_minor": 5
}
