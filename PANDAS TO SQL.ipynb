{
 "cells": [
  {
   "cell_type": "code",
   "execution_count": null,
   "id": "b429c606-a1a5-4c34-af68-69e53697ea02",
   "metadata": {},
   "outputs": [],
   "source": [
    "import pandas as pd\n",
    "import sqlite3\n",
    "# create local sql server"
   ]
  },
  {
   "cell_type": "code",
   "execution_count": 3,
   "id": "b5a67d83-fa3d-4f64-8cf4-1f0c67578c99",
   "metadata": {},
   "outputs": [],
   "source": [
    "conn=sqlite3.connect(\"/home/nambu/Desktop/ETL pipeline/SQL/library.db\")\n",
    "\n",
    "cursor = conn.cursor()\n",
    "# create a table Fact_D\n",
    "cursor.execute(\"\"\"CREATE TABLE IF NOT EXISTS Fact_D\n",
    "                  (trip_id,start_time,end_time,bikeid,tripduration,usertype,gender,birthyear)\n",
    "               \"\"\")\n",
    "conn.commit()\n",
    "# create a table Dimension_D\n",
    "cursor.execute(\"\"\"CREATE TABLE IF NOT EXISTS Dimension_D\n",
    "                  (trip_id,from_station_id,from_station_name,to_station_id,to_station_name,Quarter)\n",
    "               \"\"\")\n",
    "conn.commit()"
   ]
  },
  {
   "cell_type": "code",
   "execution_count": null,
   "id": "b23f2a4c-f078-4bcc-bc68-8c2625012841",
   "metadata": {},
   "outputs": [],
   "source": []
  },
  {
   "cell_type": "code",
   "execution_count": 2,
   "id": "f9972281-e892-4ca4-9e43-2f110ee29665",
   "metadata": {},
   "outputs": [],
   "source": [
    "#df_dim = pd.read_csv(r'/home/nambu/Desktop/ETL pipeline/EXCTRACTED FILES/merged.csv',header=0,usecols=['trip_id','from_station_id','from_station_name','to_station_id','to_station_name','Quarter'])\n",
    "#My laptop is too slow but alternative is df_dim=merged_d[['trip_id','from_station_id','from_station_name','to_station_id','to_station_name','Quarter'] , I will also code this in SAS to double check everythoing.\n",
    "#But my laptop crashes when I load all the data.\n",
    "\n",
    "#df_dim.to_sql('Dimension_D', conn, if_exists='append', index = False)\n",
    "\n",
    "#df_fact = pd.read_csv(r'/home/nambu/Desktop/ETL pipeline/EXCTRACTED FILES/merged.csv',header=0,usecols=['trip_id','start_time','end_time','bikeid','tripduration','usertype','gender','birthyear'])\n",
    "\n",
    "#My laptop is too slow but alternative is df_fact=merged_d[['trip_id','start_time','end_time','bikeid','tripduration','usertype','gender','birthyear']]\n",
    "#Or just use SQL querries by operating directly with sqlalchemy, I preffer to use SAS hash objects to be fair since they are the fastest way to read data.\n",
    "# ALternative is to use from sqlalchemy import create_engine but it did not work well on my laptop, so  I guess this is more resourse efficient. "
   ]
  },
  {
   "cell_type": "code",
   "execution_count": null,
   "id": "e3ab3c76-3cea-434d-b67a-df5654835fb7",
   "metadata": {},
   "outputs": [],
   "source": []
  }
 ],
 "metadata": {
  "kernelspec": {
   "display_name": "Python 3 (ipykernel)",
   "language": "python",
   "name": "python3"
  },
  "language_info": {
   "codemirror_mode": {
    "name": "ipython",
    "version": 3
   },
   "file_extension": ".py",
   "mimetype": "text/x-python",
   "name": "python",
   "nbconvert_exporter": "python",
   "pygments_lexer": "ipython3",
   "version": "3.11.5"
  }
 },
 "nbformat": 4,
 "nbformat_minor": 5
}
