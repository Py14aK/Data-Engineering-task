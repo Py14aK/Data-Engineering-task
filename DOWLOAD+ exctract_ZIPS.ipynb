{
 "cells": [
  {
   "cell_type": "code",
   "execution_count": 1,
   "id": "59ef0eeb-2f0b-40bd-8447-18762cf7167a",
   "metadata": {},
   "outputs": [],
   "source": [
    "import urllib.request\n",
    "import zipfile\n",
    "\n",
    "download_urls = [\n",
    "'https://divvy-tripdata.s3.amazonaws.com/Divvy_Trips_2019_Q1.zip',\n",
    "'https://divvy-tripdata.s3.amazonaws.com/Divvy_Trips_2019_Q2.zip',\n",
    "'https://divvy-tripdata.s3.amazonaws.com/Divvy_Trips_2019_Q3.zip',\n",
    "'https://divvy-tripdata.s3.amazonaws.com/Divvy_Trips_2019_Q4.zip',\n",
    "]\n",
    "\n",
    "num=0\n",
    "for i in download_urls:\n",
    "    num=+1\n",
    "    loc='/home/nambu/Desktop/ETL pipeline/DOWNLOADS/Q'+ str(num) + '.zip'\n",
    "    #url = 'https://divvy-tripdata.s3.amazonaws.com/Divvy_Trips_2019_Q1.zip'\n",
    "    urllib.request.urlretrieve(i, loc)\n",
    "    with zipfile.ZipFile(loc ,'r') as zf:\n",
    "        zf.extractall(\"/home/nambu/Desktop/ETL pipeline/EXCTRACTED FILES\")\n"
   ]
  },
  {
   "cell_type": "code",
   "execution_count": null,
   "id": "c6ea1582-e1ac-45c0-b098-a3cc7b735f59",
   "metadata": {},
   "outputs": [],
   "source": [
    "# This can be made easier with a wget script but that can not be used with Jup. notebooks as it is mainly a Linux command line tool\n",
    "#wget -i list.txt"
   ]
  }
 ],
 "metadata": {
  "kernelspec": {
   "display_name": "Python 3 (ipykernel)",
   "language": "python",
   "name": "python3"
  },
  "language_info": {
   "codemirror_mode": {
    "name": "ipython",
    "version": 3
   },
   "file_extension": ".py",
   "mimetype": "text/x-python",
   "name": "python",
   "nbconvert_exporter": "python",
   "pygments_lexer": "ipython3",
   "version": "3.11.5"
  }
 },
 "nbformat": 4,
 "nbformat_minor": 5
}
