{
 "cells": [
  {
   "cell_type": "code",
   "execution_count": 9,
   "id": "02f534b5-a98a-479e-9b49-891eeee50b22",
   "metadata": {},
   "outputs": [
    {
     "data": {
      "text/plain": [
       "365069"
      ]
     },
     "execution_count": 9,
     "metadata": {},
     "output_type": "execute_result"
    }
   ],
   "source": [
    "import pandas as pd\n",
    "import sqlite3\n",
    "\n",
    "conn=sqlite3.connect(\"/home/nambu/Desktop/ETL pipeline/SQL/library.db\")\n",
    "cursor = conn.cursor()\n",
    "\n",
    "data = pd.read_csv(r'/home/nambu/Desktop/ETL pipeline/EXCTRACTED FILES/Divvy_Trips_2019_Q1.csv',header=0)\n",
    "data['Quarter']='Q1'\n",
    "#data.head()\n",
    "data_f = data[['trip_id', 'start_time', 'end_time', 'bikeid', 'tripduration' ,'usertype', 'gender', 'birthyear']]\n",
    "data_f.to_sql('Fact_D', conn, if_exists='append', index = False)\n"
   ]
  },
  {
   "cell_type": "code",
   "execution_count": 10,
   "id": "69d914b3-6d9b-4e71-b7a7-4731640b43a9",
   "metadata": {},
   "outputs": [
    {
     "data": {
      "text/plain": [
       "365069"
      ]
     },
     "execution_count": 10,
     "metadata": {},
     "output_type": "execute_result"
    }
   ],
   "source": [
    "\n",
    "data_d = data[['trip_id','from_station_id','from_station_name','to_station_id','to_station_name','Quarter']]\n",
    "data_d.to_sql('Dimension_D', conn, if_exists='append', index = False)"
   ]
  },
  {
   "cell_type": "code",
   "execution_count": 11,
   "id": "ebf5be19-fe62-4863-9906-39e79f87fa0b",
   "metadata": {},
   "outputs": [
    {
     "data": {
      "text/plain": [
       "1108163"
      ]
     },
     "execution_count": 11,
     "metadata": {},
     "output_type": "execute_result"
    }
   ],
   "source": [
    "data2 = pd.read_csv(r'/home/nambu/Desktop/ETL pipeline/EXCTRACTED FILES/Divvy_Trips_2019_Q2.csv',header=0)\n",
    "data2['Quarter']='Q2'\n",
    "#data2.head()\n",
    "names = list(data)\n",
    "#print(names)\n",
    "#list(data2) check for bad col names\n",
    "data2.columns = names\n",
    "data_f2 = data2[['trip_id', 'start_time', 'end_time', 'bikeid', 'tripduration' ,'usertype', 'gender', 'birthyear']]\n",
    "data_f2.to_sql('Fact_D', conn, if_exists='append', index = False)\n",
    "#list(data2) check if fix is applied\n",
    "data_d2 = data2[['trip_id','from_station_id','from_station_name','to_station_id','to_station_name','Quarter']]\n",
    "data_d2.to_sql('Dimension_D', conn, if_exists='append', index = False)"
   ]
  },
  {
   "cell_type": "code",
   "execution_count": 3,
   "id": "516fb214-1a5f-407a-94de-e864e6f62f5c",
   "metadata": {
    "scrolled": true
   },
   "outputs": [
    {
     "data": {
      "text/plain": [
       "1640718"
      ]
     },
     "execution_count": 3,
     "metadata": {},
     "output_type": "execute_result"
    }
   ],
   "source": [
    "#Kernel keeps dying on me here\n",
    "import pandas as pd\n",
    "import sqlite3\n",
    "\n",
    "conn=sqlite3.connect(\"/home/nambu/Desktop/ETL pipeline/SQL/library.db\")\n",
    "cursor = conn.cursor()\n",
    "\n",
    "data3 = pd.read_csv(r'/home/nambu/Desktop/ETL pipeline/EXCTRACTED FILES/Divvy_Trips_2019_Q3.csv',header=0)\n",
    "data3['Quarter']='Q3'\n",
    "#list(data3)\n",
    "data_f3 = data3[['trip_id', 'start_time', 'end_time', 'bikeid', 'tripduration' ,'usertype', 'gender', 'birthyear']]\n",
    "data_f3.to_sql('Fact_D', conn, if_exists='append', index = False)\n",
    "data_d3 = data3[['trip_id','from_station_id','from_station_name','to_station_id','to_station_name','Quarter']]\n",
    "data_d3.to_sql('Dimension_D', conn, if_exists='append', index = False)"
   ]
  },
  {
   "cell_type": "code",
   "execution_count": 4,
   "id": "4627fbac-665c-4198-9b09-f1bfea502c33",
   "metadata": {},
   "outputs": [
    {
     "data": {
      "text/plain": [
       "704054"
      ]
     },
     "execution_count": 4,
     "metadata": {},
     "output_type": "execute_result"
    }
   ],
   "source": [
    "data4 = pd.read_csv(r'/home/nambu/Desktop/ETL pipeline/EXCTRACTED FILES/Divvy_Trips_2019_Q4.csv',header=0)\n",
    "data4['Quarter']='Q4'\n",
    "#list(data4)\n",
    "data_f4 = data4[['trip_id', 'start_time', 'end_time', 'bikeid', 'tripduration' ,'usertype', 'gender', 'birthyear']]\n",
    "data_f4.to_sql('Fact_D', conn, if_exists='append', index = False)\n",
    "data_d4 = data4[['trip_id','from_station_id','from_station_name','to_station_id','to_station_name','Quarter']]\n",
    "data_d4.to_sql('Dimension_D', conn, if_exists='append', index = False)"
   ]
  },
  {
   "cell_type": "code",
   "execution_count": null,
   "id": "31c0bc81-c658-402a-ab0b-9e9d1966b255",
   "metadata": {},
   "outputs": [],
   "source": [
    "#merged_d=pd.concat([data,data2,data3,data4])\n",
    "#print(merged_d)\n",
    "#check if cols number is right"
   ]
  },
  {
   "cell_type": "code",
   "execution_count": 3,
   "id": "404ef80c-dce5-4413-92be-929bfe132284",
   "metadata": {},
   "outputs": [
    {
     "name": "stdout",
     "output_type": "stream",
     "text": [
      "[(3818004,)]\n"
     ]
    }
   ],
   "source": [
    "#merged_d.to_csv('/home/nambu/Desktop/ETL pipeline/EXCTRACTED FILES/merged.csv')\n",
    "import pandas as pd\n",
    "import sqlite3\n",
    "\n",
    "conn=sqlite3.connect(\"/home/nambu/Desktop/ETL pipeline/SQL/library.db\")\n",
    "cursor = conn.cursor()\n",
    "cursor.execute(\"\"\"SELECT Count(*) FROM Fact_D\n",
    "               \"\"\")\n",
    "print(cursor.fetchall())\n",
    "conn.commit()"
   ]
  },
  {
   "cell_type": "code",
   "execution_count": null,
   "id": "d22f7885-3245-4b10-905b-beb6896bdab5",
   "metadata": {},
   "outputs": [],
   "source": []
  }
 ],
 "metadata": {
  "kernelspec": {
   "display_name": "Python 3 (ipykernel)",
   "language": "python",
   "name": "python3"
  },
  "language_info": {
   "codemirror_mode": {
    "name": "ipython",
    "version": 3
   },
   "file_extension": ".py",
   "mimetype": "text/x-python",
   "name": "python",
   "nbconvert_exporter": "python",
   "pygments_lexer": "ipython3",
   "version": "3.11.5"
  }
 },
 "nbformat": 4,
 "nbformat_minor": 5
}
