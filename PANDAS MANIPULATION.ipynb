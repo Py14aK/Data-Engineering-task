{
 "cells": [
  {
   "cell_type": "code",
   "execution_count": null,
   "id": "02f534b5-a98a-479e-9b49-891eeee50b22",
   "metadata": {},
   "outputs": [],
   "source": [
    "import pandas as pd\n",
    "data = pd.read_csv(r'/home/nambu/Desktop/ETL pipeline/EXCTRACTED FILES/Divvy_Trips_2019_Q1.csv',header=0,usecols=['trip_id','start_time','end_time','bikeid','tripduration','from_station_id','from_station_name','to_station_id','to_station_name','usertype','gender','birthyear'])\n",
    "data['Quater']='Q1'\n",
    "#data.head()\n",
    "names = list(data)\n",
    "#print(names)"
   ]
  },
  {
   "cell_type": "code",
   "execution_count": null,
   "id": "ebf5be19-fe62-4863-9906-39e79f87fa0b",
   "metadata": {},
   "outputs": [],
   "source": [
    "data2 = pd.read_csv(r'/home/nambu/Desktop/ETL pipeline/EXCTRACTED FILES/Divvy_Trips_2019_Q2.csv',header=0)\n",
    "data2['Quater']='Q2'\n",
    "data2.head()\n",
    "#list(data2) check for bad col names\n",
    "data2.columns = names\n",
    "#list(data2) check if fix is applied"
   ]
  },
  {
   "cell_type": "code",
   "execution_count": null,
   "id": "516fb214-1a5f-407a-94de-e864e6f62f5c",
   "metadata": {
    "scrolled": true
   },
   "outputs": [],
   "source": [
    "data3 = pd.read_csv(r'/home/nambu/Desktop/ETL pipeline/EXCTRACTED FILES/Divvy_Trips_2019_Q3.csv',header=0)\n",
    "data3['Quater']='Q3'\n",
    "#list(data3)"
   ]
  },
  {
   "cell_type": "code",
   "execution_count": null,
   "id": "4627fbac-665c-4198-9b09-f1bfea502c33",
   "metadata": {},
   "outputs": [],
   "source": [
    "data4 = pd.read_csv(r'/home/nambu/Desktop/ETL pipeline/EXCTRACTED FILES/Divvy_Trips_2019_Q4.csv',header=0)\n",
    "data4['Quater']='Q4'\n",
    "#list(data4)"
   ]
  },
  {
   "cell_type": "code",
   "execution_count": null,
   "id": "31c0bc81-c658-402a-ab0b-9e9d1966b255",
   "metadata": {},
   "outputs": [],
   "source": [
    "merged_d=pd.concat([data,data2,data3,data4])\n",
    "print(merged_d)\n",
    "#check if cols number is right"
   ]
  },
  {
   "cell_type": "code",
   "execution_count": null,
   "id": "404ef80c-dce5-4413-92be-929bfe132284",
   "metadata": {},
   "outputs": [],
   "source": [
    "merged_d.to_csv('/home/nambu/Desktop/ETL pipeline/EXCTRACTED FILES/merged.csv')\n"
   ]
  }
 ],
 "metadata": {
  "kernelspec": {
   "display_name": "Python 3 (ipykernel)",
   "language": "python",
   "name": "python3"
  },
  "language_info": {
   "codemirror_mode": {
    "name": "ipython",
    "version": 3
   },
   "file_extension": ".py",
   "mimetype": "text/x-python",
   "name": "python",
   "nbconvert_exporter": "python",
   "pygments_lexer": "ipython3",
   "version": "3.11.5"
  }
 },
 "nbformat": 4,
 "nbformat_minor": 5
}
