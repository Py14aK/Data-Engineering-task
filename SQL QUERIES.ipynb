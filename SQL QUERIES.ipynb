{
 "cells": [
  {
   "cell_type": "code",
   "execution_count": 1,
   "id": "31b5d5e2-2e3a-49a3-ab82-c84483124e98",
   "metadata": {},
   "outputs": [
    {
     "ename": "OperationalError",
     "evalue": "no such table: Dimension_D",
     "output_type": "error",
     "traceback": [
      "\u001b[0;31m---------------------------------------------------------------------------\u001b[0m",
      "\u001b[0;31mOperationalError\u001b[0m                          Traceback (most recent call last)",
      "Cell \u001b[0;32mIn[1], line 8\u001b[0m\n\u001b[1;32m      6\u001b[0m cursor \u001b[38;5;241m=\u001b[39m conn\u001b[38;5;241m.\u001b[39mcursor()\n\u001b[1;32m      7\u001b[0m \u001b[38;5;66;03m# create a table\u001b[39;00m\n\u001b[0;32m----> 8\u001b[0m \u001b[43mcursor\u001b[49m\u001b[38;5;241;43m.\u001b[39;49m\u001b[43mexecute\u001b[49m\u001b[43m(\u001b[49m\u001b[38;5;124;43m\"\"\"\u001b[39;49m\u001b[38;5;124;43mSELECT COUNT(TRIP_ID) AS COUNT_TRIPS, from_station_id, to_station_id  \u001b[39;49m\n\u001b[1;32m      9\u001b[0m \u001b[38;5;124;43m                           FROM Dimension_D\u001b[39;49m\n\u001b[1;32m     10\u001b[0m \u001b[38;5;124;43m                           ORDER BY COUNT.TRIP_ID\u001b[39;49m\n\u001b[1;32m     11\u001b[0m \u001b[38;5;124;43m               \u001b[39;49m\u001b[38;5;124;43m\"\"\"\u001b[39;49m\u001b[43m)\u001b[49m\n\u001b[1;32m     12\u001b[0m conn\u001b[38;5;241m.\u001b[39mcommit()\n",
      "\u001b[0;31mOperationalError\u001b[0m: no such table: Dimension_D"
     ]
    }
   ],
   "source": [
    "import pandas as pd\n",
    "import sqlite3\n",
    "\n",
    "conn=sqlite3.connect(\"/home/nambu/Desktop/ETL pipeline/SQL/library.db\")\n",
    "\n",
    "cursor = conn.cursor()\n",
    "# create a table\n",
    "cursor.execute(\"\"\"SELECT COUNT(TRIP_ID) AS COUNT_TRIPS, from_station_id, to_station_id  \n",
    "                           FROM Dimension_D\n",
    "                           ORDER BY COUNT.TRIP_ID\n",
    "               \"\"\")\n",
    "conn.commit()\n"
   ]
  },
  {
   "cell_type": "code",
   "execution_count": null,
   "id": "13b1ef4f-d498-46d1-861c-97ace5ef5a63",
   "metadata": {},
   "outputs": [],
   "source": []
  }
 ],
 "metadata": {
  "kernelspec": {
   "display_name": "Python 3 (ipykernel)",
   "language": "python",
   "name": "python3"
  },
  "language_info": {
   "codemirror_mode": {
    "name": "ipython",
    "version": 3
   },
   "file_extension": ".py",
   "mimetype": "text/x-python",
   "name": "python",
   "nbconvert_exporter": "python",
   "pygments_lexer": "ipython3",
   "version": "3.11.5"
  }
 },
 "nbformat": 4,
 "nbformat_minor": 5
}
