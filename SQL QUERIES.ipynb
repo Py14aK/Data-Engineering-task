{
 "cells": [
  {
   "cell_type": "code",
   "execution_count": null,
   "id": "31b5d5e2-2e3a-49a3-ab82-c84483124e98",
   "metadata": {},
   "outputs": [],
   "source": [
    "import sqlite3\n",
    "\n",
    "conn=sqlite3.connect(\"/home/nambu/Desktop/ETL pipeline/SQL/library.db\")\n",
    "cursor = conn.cursor()\n",
    "cursor.execute(\"\"\"Select Distinct count(*) as counts, from_station_id , to_station_id  from \n",
    "              Dimension_D group by  to_station_id , from_station_id\n",
    "              order by counts desc\n",
    "            LIMIT 10\n",
    "               \"\"\")\n",
    "conn.commit()\n",
    "result=cursor.fetchall()\n",
    "\n",
    "# Printing all records or rows from the table. \n",
    "# It returns a result set.  \n",
    "for all in result: \n",
    "  print(all)"
   ]
  },
  {
   "cell_type": "code",
   "execution_count": null,
   "id": "13b1ef4f-d498-46d1-861c-97ace5ef5a63",
   "metadata": {},
   "outputs": [],
   "source": [
    "#I actually did this in a normal environment because this the python fetch method is lacking\n",
    "Select Distinct count(*) as counts, from_station_id , to_station_id  from \n",
    "  Dimension_D group by  to_station_id , from_station_id\n",
    "  order by counts desc\n",
    "LIMIT 10\n",
    "\n",
    "\n",
    "    "
   ]
  },
  {
   "cell_type": "code",
   "execution_count": null,
   "id": "839b4b35-6cf9-4443-93aa-1493da7a981a",
   "metadata": {},
   "outputs": [],
   "source": [
    "cursor.execute(\"\"\"Select distinct count(DISTINCT trip_id) as count, min(start_time), max(end_time)\n",
    "from Fact_D\n",
    "\twhere (start_time BETWEEN date(\"2019-01-16\") and date(\"2019-05-17\") ) and (end_time BETWEEN date(\"2019-05-16\") and date(\"2019-05-17\") )\n",
    "\torder by count \n",
    "               \"\"\")\n",
    "conn.commit()\n",
    "result=cursor.fetchall()\n",
    "result\n",
    "# Printing all records or rows from the table. \n",
    "# It returns a result set.  \n"
   ]
  },
  {
   "cell_type": "code",
   "execution_count": null,
   "id": "d8a321fc-2d50-49c2-95b7-c2b03ae92883",
   "metadata": {},
   "outputs": [],
   "source": [
    "\n",
    "cursor.execute(\"\"\"CREATE table Merged as\n",
    "\tSELECT DISTINCT  a.trip_id, b.from_station_id,b.trip_id, a.start_time,a.end_time \n",
    "\tfrom Fact_D as a\n",
    "\t\n",
    "\tinner  join Dimension_D as b on a.trip_id=b.trip_id\n",
    "\t\n",
    "WHERE (a.start_time BETWEEN  date(\"2019-01-01\") and date(\"2019-05-17\") and a.end_time BETWEEN date(\"2019-01-01\") and date(\"2019-05-17\"))\n",
    "\"\"\")\n",
    "conn.commit()\n",
    "result=cursor.fetchall()\n",
    "result"
   ]
  },
  {
   "cell_type": "code",
   "execution_count": null,
   "id": "296f01ba-339d-464e-91c8-a389b6fbaab8",
   "metadata": {},
   "outputs": [],
   "source": [
    "\n",
    "cursor.execute(\"\"\"SELECT  from_station_id,count(DISTINCT(trip_id)) as count\n",
    "\tfrom Merged\n",
    "\t\n",
    "WHERE (start_time BETWEEN  date(\"2019-01-01\") and date(\"2019-05-17\") and end_time BETWEEN date(\"2019-01-01\") and date(\"2019-05-17\"))\n",
    "GROUP by from_station_id\n",
    "\"\"\")\n",
    "conn.commit()\n",
    "result=cursor.fetchall()\n",
    "result"
   ]
  },
  {
   "cell_type": "code",
   "execution_count": null,
   "id": "ea3ca5ce-0e88-418c-a416-7530f03481db",
   "metadata": {},
   "outputs": [],
   "source": [
    "\n",
    "\n",
    "cursor.execute(\"\"\"\n",
    "\tSELECT  count(DISTINCT(trip_id)) as count, strftime('%m',start_time) as T\n",
    "\tfrom Fact_D\n",
    "\t\n",
    "WHERE (start_time BETWEEN  date(\"2019-01-01\") and date(\"2019-12-31\") and end_time BETWEEN date(\"2019-01-01\") and date(\"2019-12-31\"))\n",
    "GROUP by strftime('%m',start_time)\n",
    "\n",
    "\"\"\")\n",
    "conn.commit()\n",
    "result=cursor.fetchall()\n",
    "result\n",
    "\n",
    "\t"
   ]
  },
  {
   "cell_type": "code",
   "execution_count": null,
   "id": "01df3a99-b687-4732-a3fa-a5ba19a6580b",
   "metadata": {},
   "outputs": [],
   "source": [
    "\n",
    "cursor.execute(\"\"\"SELECT  count(DISTINCT(trip_id)) as count, date(start_time) as T\n",
    "\tfrom Fact_D\n",
    "\t\n",
    "WHERE (start_time BETWEEN  date(\"2019-01-01\") and date(\"2019-05-17\") and end_time BETWEEN date(\"2019-01-01\") and date(\"2019-05-17\"))\n",
    "GROUP by date(start_time)\n",
    "\"\"\")\n",
    "conn.commit()\n",
    "result=cursor.fetchall()\n",
    "result"
   ]
  },
  {
   "cell_type": "code",
   "execution_count": null,
   "id": "77422589-af11-466c-b1ec-5f96ba973914",
   "metadata": {},
   "outputs": [],
   "source": [
    "##################\n",
    "Select Distinct count(*) as counts, from_station_id , to_station_id  from \n",
    "  Dimension_D group by  to_station_id , from_station_id\n",
    "  order by counts desc\n",
    "LIMIT 10\n",
    "##################\n",
    "Select distinct count(DISTINCT trip_id) as count, min(start_time), max(end_time)\n",
    "from Fact_D\n",
    "\twhere (start_time BETWEEN date(\"2019-01-16\") and date(\"2019-05-17\") ) and (end_time BETWEEN date(\"2019-05-16\") and date(\"2019-05-17\") )\n",
    "\torder by count \n",
    "##################\n",
    "CREATE table Merged as\n",
    "\tSELECT DISTINCT  a.trip_id, b.from_station_id,b.trip_id, a.start_time,a.end_time \n",
    "\tfrom Fact_D as a\n",
    "\t\n",
    "\tinner  join Dimension_D as b on a.trip_id=b.trip_id\n",
    "\t\n",
    "WHERE (a.start_time BETWEEN  date(\"2019-01-01\") and date(\"2019-05-17\") and a.end_time BETWEEN date(\"2019-01-01\") and date(\"2019-05-17\"))\n",
    "##################\n",
    "SELECT  from_station_id,count(DISTINCT(trip_id)) as count\n",
    "\tfrom Merged\n",
    "\t\n",
    "WHERE (start_time BETWEEN  date(\"2019-01-01\") and date(\"2019-05-17\") and end_time BETWEEN date(\"2019-01-01\") and date(\"2019-05-17\"))\n",
    "GROUP by from_station_id\n",
    "##################\n",
    "\n",
    "\tSELECT  count(DISTINCT(trip_id)) as count, strftime('%m',start_time) as T\n",
    "\tfrom Fact_D\n",
    "\t\n",
    "WHERE (start_time BETWEEN  date(\"2019-01-01\") and date(\"2019-12-31\") and end_time BETWEEN date(\"2019-01-01\") and date(\"2019-12-31\"))\n",
    "GROUP by strftime('%m',start_time)\n",
    "##################\n",
    "\n",
    "\tSELECT  count(DISTINCT(trip_id)) as count, date(start_time) as T\n",
    "\tfrom Fact_D\n",
    "\t\n",
    "WHERE (start_time BETWEEN  date(\"2019-01-01\") and date(\"2019-05-17\") and end_time BETWEEN date(\"2019-01-01\") and date(\"2019-05-17\"))\n",
    "GROUP by date(start_time)"
   ]
  }
 ],
 "metadata": {
  "kernelspec": {
   "display_name": "Python 3 (ipykernel)",
   "language": "python",
   "name": "python3"
  },
  "language_info": {
   "codemirror_mode": {
    "name": "ipython",
    "version": 3
   },
   "file_extension": ".py",
   "mimetype": "text/x-python",
   "name": "python",
   "nbconvert_exporter": "python",
   "pygments_lexer": "ipython3",
   "version": "3.11.5"
  }
 },
 "nbformat": 4,
 "nbformat_minor": 5
}
