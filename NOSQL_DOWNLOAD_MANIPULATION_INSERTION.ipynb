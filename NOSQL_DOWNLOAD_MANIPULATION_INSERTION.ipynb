{
 "cells": [
  {
   "cell_type": "code",
   "execution_count": null,
   "id": "db313783-c55a-4ca4-8cd5-8a506c9f55cc",
   "metadata": {},
   "outputs": [],
   "source": [
    "import urllib.request\n",
    "import pandas as pd\n",
    "import json\n",
    "from tinydb import TinyDB, Query\n",
    "import pprint as pp\n",
    "\n",
    "download_urls = [\n",
    "'https://api.covidtracking.com/v2/us/daily.json'\n",
    "]\n",
    "\n",
    "for i in download_urls:\n",
    "    webURL = urllib.request.urlopen(i)\n",
    "    data = webURL.read()\n",
    "    encoding = webURL.info().get_content_charset('utf-8')\n",
    "    json_o=json.loads(data.decode(encoding))\n",
    "#json_o is a python dictionary\n",
    "#we need to flatten the data if we want to manipulate it using pandas\n",
    "\n",
    "meta_d=json_o['meta'] \n",
    "\n",
    "#meta_d is seperated on the meta key, since this is an info table there is little reason to manipulate it,\n",
    "#but we can flatten it if we want to and then transpose it but I find it easier to just print the values\n",
    "\n",
    "#print(meta_d)\n",
    "\n",
    "#We have created a local NoSQL DB in the create_tinydb section\n",
    "#normalise data based on feature key\n",
    "\n",
    "df_data=pd.json_normalize(json_o,'data')\n",
    "cols=list(df_data)\n",
    "\n",
    "#convert to dataframe\n",
    "\n",
    "df_data2= pd.DataFrame(df_data, columns=cols)\n",
    "\n",
    "#Do something with data using dataframe\n",
    "#fix nulls\n",
    "\n",
    "df_data2.fillna(0, inplace=True)\n",
    "               \n",
    "#quick check\n",
    "#df_data2.head(10)\n",
    "                \n",
    "Dict_data=df_data2.to_dict(orient='dict')\n",
    "\n",
    "#convert back to dict and check for nulls\n",
    "#pp.pprint(Dict_data)\n",
    "\n",
    "#insert in to nosqldb\n",
    "\n",
    "db_meta.insert(meta_d)\n",
    "db_data1.insert(Dict_data)\n",
    "\n",
    "\n"
   ]
  }
 ],
 "metadata": {
  "kernelspec": {
   "display_name": "Python 3 (ipykernel)",
   "language": "python",
   "name": "python3"
  },
  "language_info": {
   "codemirror_mode": {
    "name": "ipython",
    "version": 3
   },
   "file_extension": ".py",
   "mimetype": "text/x-python",
   "name": "python",
   "nbconvert_exporter": "python",
   "pygments_lexer": "ipython3",
   "version": "3.11.5"
  }
 },
 "nbformat": 4,
 "nbformat_minor": 5
}
